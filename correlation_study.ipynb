{
 "cells": [
  {
   "cell_type": "code",
   "execution_count": 1,
   "metadata": {},
   "outputs": [],
   "source": [
    "import pandas as pd\n",
    "from datetime import datetime, timedelta\n",
    "import matplotlib.pyplot as plt\n",
    "import matplotlib.dates as mdates\n",
    "from MongoDB.client import SyncDB"
   ]
  },
  {
   "cell_type": "markdown",
   "metadata": {},
   "source": [
    "### Set Configs"
   ]
  },
  {
   "cell_type": "code",
   "execution_count": 2,
   "metadata": {},
   "outputs": [],
   "source": [
    "# Please change the parameters here\n",
    "# For corr_method you can set the following:\n",
    "# 'pearson' : standard correlation coefficient\n",
    "# 'kendall' : Kendall Tau correlation coefficient\n",
    "# 'spearman' : Spearman rank correlation\n",
    "# 'all': All of 3 methods\n",
    "\n",
    "startDate = datetime(2019, 1, 1)\n",
    "endDate = datetime(2020, 1, 1)\n",
    "stock_collection = 'stock_daily'\n",
    "stock_column = 'Close'\n",
    "stock_label = 'SPY'\n",
    "stock_match = {'symbol': 'SPY'} \n",
    "data_collection = 'TA_Daily'  \n",
    "data_column = 'RSI'\n",
    "data_label = 'RSI'\n",
    "data_match = {'symbol': 'SPY'}\n",
    "\n",
    "corr_method = 'pearson'\n",
    "\n",
    "SmoothPeriod = 5"
   ]
  },
  {
   "cell_type": "markdown",
   "metadata": {},
   "source": [
    "### Prepare data from stock_collection"
   ]
  },
  {
   "cell_type": "code",
   "execution_count": 3,
   "metadata": {},
   "outputs": [],
   "source": [
    "dateRange = (endDate - startDate).days\n",
    "modifiedStart = startDate - timedelta(days=int(SmoothPeriod*1.4)+1)\n",
    "\n",
    "query_1 = {**stock_match, **{'date': {'$gte': modifiedStart, '$lte': endDate}}}\n",
    "\n",
    "data_list_1 = list(SyncDB.find(stock_collection, query_1))\n",
    "if not data_list_1:\n",
    "    query_1 = {**stock_match, **{'date': {'$gte': modifiedStart.strftime('%Y-%m-%d'), '$lte': endDate.strftime('%Y-%m-%d')}}}\n",
    "    data_list_1 = list(SyncDB.find(stock_collection, query_1))\n",
    "if not data_list_1:\n",
    "    query_1 = {**stock_match, **{'date': {'$gte': modifiedStart, '$lte': endDate}}}\n",
    "    data_list_1 = list(SyncDB.find(stock_collection, query_1))\n",
    "if not data_list_1:\n",
    "    query_1 = {**stock_match, **{'Date': {'$gte': modifiedStart.strftime('%Y-%m-%d'), '$lte': endDate.strftime('%Y-%m-%d')}}}\n",
    "    data_list_1 = list(SyncDB.find(stock_collection, query_1))\n",
    "if not data_list_1:\n",
    "    query_1 = {**stock_match, **{'TradeTime': {'$gte': modifiedStart, '$lte': endDate}}}\n",
    "    pipeline = [{'$match': query_1},\n",
    "               {'$group' : {\n",
    "                   '_id': {\n",
    "                       \"year\": {\"$year\": \"$TradeTime\" },\n",
    "                       \"month\": {\"$month\": \"$TradeTime\"}, \n",
    "                       \"day\": {\"$dayOfMonth\": \"$TradeTime\"}\n",
    "                   },\n",
    "                   ('total%s' % stock_column): { '$sum': '$%s' % stock_column}                   \n",
    "                }},\n",
    "               ]\n",
    "    data_list_1 = list(SyncDB.aggregate(stock_collection, pipeline))\n",
    "    new_data_list = list()\n",
    "    for record in data_list_1:\n",
    "        record['date'] = datetime(record['_id']['year'], record['_id']['month'], record['_id']['day'])\n",
    "        record[stock_column] = record['total%s' % stock_column]\n",
    "        new_data_list.append({'date': record['date'], stock_column: record[stock_column]})\n",
    "    data_list_1 = new_data_list\n",
    "\n",
    "index_1 = 'date' if 'date' in data_list_1[0] else 'Date'\n",
    "cols = [index_1, stock_column]\n",
    "df = pd.DataFrame(data_list_1)[cols]\n",
    "if type(df[index_1]) != pd.core.indexes.datetimes.DatetimeIndex:\n",
    "    df[index_1] = pd.to_datetime(df[index_1], infer_datetime_format=True)\n",
    "df.set_index(index_1, drop=True, inplace=True)\n",
    "df.sort_values(index_1, inplace=True)"
   ]
  },
  {
   "cell_type": "markdown",
   "metadata": {},
   "source": [
    "### Prepare data from data_collection"
   ]
  },
  {
   "cell_type": "code",
   "execution_count": 4,
   "metadata": {},
   "outputs": [],
   "source": [
    "def add_collection_to_df(collection, query, column, label, df):\n",
    "    query['date'] = {'$gte': modifiedStart, '$lte': endDate}\n",
    "    data_list = list(SyncDB.find(collection, query))\n",
    "    if not data_list:\n",
    "        query['date'] = {'$gte': modifiedStart.strftime('%Y-%m-%d'), '$lte': endDate.strftime('%Y-%m-%d')}\n",
    "        data_list = list(SyncDB.find(collection, query))\n",
    "        if not data_list:\n",
    "            query['Date'] = {'$gte': modifiedStart, '$lte': endDate}\n",
    "            data_list = list(SyncDB.find(collection, query))\n",
    "            if not data_list:\n",
    "                query['Date'] = {'$gte': modifiedStart.strftime('%Y-%m-%d'), '$lte': endDate.strftime('%Y-%m-%d')}\n",
    "                data_list = list(SyncDB.find(collection, query))\n",
    "    index = 'date' if 'date' in data_list[0] else 'Date'\n",
    "    cols = [index, column]\n",
    "    df_n = pd.DataFrame(data_list)[cols]\n",
    "    if type(df_n[index]) != pd.core.indexes.datetimes.DatetimeIndex:\n",
    "        df_n[index] = pd.to_datetime(df_n[index], infer_datetime_format=True)\n",
    "    df_n.set_index(index, drop=True, inplace=True)\n",
    "    df_n.sort_values(index, inplace=True)\n",
    "    if column in list(df.columns) or ((column+'SMA') in list(df.columns)):\n",
    "        col_new = label\n",
    "    else:\n",
    "        col_new = column\n",
    "    df_n.columns = [col_new]\n",
    "    tmp_col_s = df_n[col_new].rolling(SmoothPeriod).mean().to_frame(name=col_new+'SMA')\n",
    "    df = df.join(df_n[col_new], how='left')\n",
    "    df = df.join(tmp_col_s, how='left')\n",
    "    return col_new, df\n",
    "    \n",
    "data_column, df = add_collection_to_df(data_collection, data_match, data_column, data_label, df)\n",
    "df_to_plot = df[(df.index<=endDate)&(df.index>=startDate)].dropna(how='any')"
   ]
  },
  {
   "cell_type": "code",
   "execution_count": 5,
   "metadata": {},
   "outputs": [],
   "source": [
    "# Calculate correlation value\n",
    "corr_values = [(df_to_plot[[stock_column, data_column]].dropna(how='any')).corr(method=corr_method).iat[0,1],\n",
    "            (df_to_plot[[stock_column, data_column+'SMA']].dropna(how='any')).corr(method=corr_method).iat[0,1]]"
   ]
  },
  {
   "cell_type": "code",
   "execution_count": null,
   "metadata": {},
   "outputs": [],
   "source": [
    "### Plot results\n",
    "# create a fig of width=10 and length=200\n",
    "fig, ax = plt.subplots(2, 1, figsize=(26, 15), sharex='col')\n",
    "fig.subplots_adjust(hspace=0)\n",
    "\n",
    "# set the label of x axis and y axis\n",
    "\n",
    "ax[0].set_ylabel(stock_column)\n",
    "ax[0].text(0.02, 0.78, 'megapro.com', horizontalalignment='left', color='gray', alpha=0.4,\n",
    "        verticalalignment='center', rotation=0, fontsize=25, transform=ax[0].transAxes, zorder=0)\n",
    "\n",
    "ax[0].text(0.02, 0.62, 'Join Discord: mCmMjSRuBn', horizontalalignment='left', color='gray', alpha=0.4,\n",
    "        verticalalignment='center', rotation=0, fontsize=25, transform=ax[0].transAxes, zorder=0)\n",
    "\n",
    "if not stock_label:\n",
    "    stock_label = stock_column\n",
    "\n",
    "ax[0].plot(df_to_plot.index, df_to_plot[stock_column], color='blue', label=stock_label)\n",
    "ax[0].text(0.08, 0.9, '%s: %.4f' % (stock_label, df_to_plot[stock_column].iat[-1]), \n",
    "        horizontalalignment='left', color='blue', verticalalignment='center', fontsize=10, transform=ax[0].transAxes)\n",
    "\n",
    "        \n",
    "def plot_data_panel(inx, label, col, corr_values):\n",
    "    label_1 = '[DATA]' + label if label else '[DATA]' + col\n",
    "    ax[inx].set_ylabel(label_1[6:])\n",
    "    ax[inx].plot(df_to_plot.index, df_to_plot[col], color='orange', label=label_1)\n",
    "    ax[inx].text(0.2, 0.9, '%s: %.4f' % (label_1, df_to_plot[col].iat[-1]), \n",
    "            horizontalalignment='left', color='black', verticalalignment='center', fontsize=10, transform=ax[inx].transAxes)\n",
    "    ax[inx].text(0.9, 0.9, 'Correlation: %.4f' % corr_values[0], \n",
    "            horizontalalignment='right', color='orange', verticalalignment='center', fontsize=15, transform=ax[inx].transAxes)           \n",
    "    if SmoothPeriod > 1:\n",
    "        label_2 = label_1 + ' SMA %d' % SmoothPeriod\n",
    "        ax[inx].plot(df_to_plot.index, df_to_plot[col+'SMA'], color='magenta', label=label_2)\n",
    "        ax[inx].text(0.4, 0.9, '%s: %.4f' % (label_2, df_to_plot[col+'SMA'].iat[-1]), \n",
    "                horizontalalignment='left', color='black', verticalalignment='center', fontsize=10, transform=ax[inx].transAxes)\n",
    "        ax[inx].text(0.9, 0.8, '%.4f' % corr_values[1], \n",
    "                horizontalalignment='right', color='magenta', verticalalignment='center', fontsize=15, transform=ax[inx].transAxes)       \n",
    "    return\n",
    "      \n",
    "inx = 1\n",
    "plot_data_panel(inx, data_label, data_column, corr_values)\n",
    "\n",
    "# set the legend at upper left corner\n",
    "#ax[0].legend(loc=[0.002, 0.88],prop={'size': 18})\n",
    "#ax[1].legend(loc=[0.002, 0.94],prop={'size': 18})\n",
    "# set date xaxis format\n",
    "for axi in ax:\n",
    "    axi.grid(axis=\"x\", color='grey',linestyle=':',linewidth=0.75)\n",
    "    axi.set_xmargin(0.005)\n",
    "    axi.legend(loc=[0.002, 0.85],prop={'size': 10})\n",
    "    axi.xaxis.set_major_formatter(mdates.DateFormatter('%Y-%m-%d'))\n",
    "    axi.xaxis.set_major_locator(mdates.DayLocator(interval=int(dateRange/80)))\n",
    "\n",
    "fig.autofmt_xdate(rotation=90)\n",
    "# set title\n",
    "\n",
    "pic_title = 'Megapro Chart %s-%s Correlation Study\\n%s-%s' % (stock_label, data_label, startDate.strftime('%Y%m%d'), endDate.strftime('%Y%m%d'))\n",
    "fig.suptitle(pic_title, fontsize=30, y=0.98)\n",
    "#fig.tight_layout()\n",
    "fig.subplots_adjust(top=0.88)\n",
    "\n",
    "# save plot to file\n",
    "filename = ('%s_%s_Corr_%s-%s.png' % (stock_label, data_label, startDate.strftime('%y%m%d'), endDate.strftime('%y%m%d'))).replace(' ', '')\n",
    "\n",
    "plt.savefig(filename)\n",
    "\n",
    "url = 'https://jbook123456.megagurus.net/user/yourusername/view/%s' % filename\n",
    "print(url)"
   ]
  },
  {
   "cell_type": "code",
   "execution_count": null,
   "metadata": {},
   "outputs": [],
   "source": []
  }
 ],
 "metadata": {
  "hide_input": false,
  "kernelspec": {
   "display_name": "Python 3 (ipykernel)",
   "language": "python",
   "name": "python3"
  },
  "language_info": {
   "codemirror_mode": {
    "name": "ipython",
    "version": 3
   },
   "file_extension": ".py",
   "mimetype": "text/x-python",
   "name": "python",
   "nbconvert_exporter": "python",
   "pygments_lexer": "ipython3",
   "version": "3.8.10"
  },
  "toc": {
   "base_numbering": 1,
   "nav_menu": {},
   "number_sections": true,
   "sideBar": true,
   "skip_h1_title": false,
   "title_cell": "Table of Contents",
   "title_sidebar": "Contents",
   "toc_cell": false,
   "toc_position": {},
   "toc_section_display": true,
   "toc_window_display": false
  },
  "varInspector": {
   "cols": {
    "lenName": 16,
    "lenType": 16,
    "lenVar": 40
   },
   "kernels_config": {
    "python": {
     "delete_cmd_postfix": "",
     "delete_cmd_prefix": "del ",
     "library": "var_list.py",
     "varRefreshCmd": "print(var_dic_list())"
    },
    "r": {
     "delete_cmd_postfix": ") ",
     "delete_cmd_prefix": "rm(",
     "library": "var_list.r",
     "varRefreshCmd": "cat(var_dic_list()) "
    }
   },
   "types_to_exclude": [
    "module",
    "function",
    "builtin_function_or_method",
    "instance",
    "_Feature"
   ],
   "window_display": false
  }
 },
 "nbformat": 4,
 "nbformat_minor": 4
}
